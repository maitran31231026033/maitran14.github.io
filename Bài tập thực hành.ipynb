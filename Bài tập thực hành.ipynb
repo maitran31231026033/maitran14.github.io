{
  "nbformat": 4,
  "nbformat_minor": 0,
  "metadata": {
    "colab": {
      "provenance": [],
      "authorship_tag": "ABX9TyN/iIrOx87vyZQ/YrgetQZ9",
      "include_colab_link": true
    },
    "kernelspec": {
      "name": "python3",
      "display_name": "Python 3"
    },
    "language_info": {
      "name": "python"
    }
  },
  "cells": [
    {
      "cell_type": "markdown",
      "metadata": {
        "id": "view-in-github",
        "colab_type": "text"
      },
      "source": [
        "<a href=\"https://colab.research.google.com/github/maitran31231026033/maitran14.github.io/blob/main/B%C3%A0i%20t%E1%BA%ADp%20th%E1%BB%B1c%20h%C3%A0nh.ipynb\" target=\"_parent\"><img src=\"https://colab.research.google.com/assets/colab-badge.svg\" alt=\"Open In Colab\"/></a>"
      ]
    },
    {
      "cell_type": "code",
      "source": [
        "# Bài 1. In nhãn\n",
        "print(\"**************************\")\n",
        "print(\"*Truong: Dai hoc UEH     *\")\n",
        "print(\"*Khoa: Kinh te           *\")\n",
        "print(\"*Ho ten: Tran Thanh Mai  *\")\n",
        "print(\"**************************\")"
      ],
      "metadata": {
        "colab": {
          "base_uri": "https://localhost:8080/"
        },
        "id": "M64jVScPbyE_",
        "outputId": "c7dd9476-a02b-4c92-d52c-080d522f3c1f"
      },
      "execution_count": 3,
      "outputs": [
        {
          "output_type": "stream",
          "name": "stdout",
          "text": [
            "**************************\n",
            "*Truong: Dai hoc UEH     *\n",
            "*Khoa: Kinh te           *\n",
            "*Ho ten: Tran Thanh Mai  *\n",
            "**************************\n"
          ]
        }
      ]
    },
    {
      "cell_type": "code",
      "source": [
        "# Bài 2. Tính diện tích và chu vi hình tròn\n",
        "a = float(input(\"Nhap ban kinh a \"))\n",
        "## Tính chu vi và diện tích hình tròn\n",
        "chuvi = 2 * a * 3.14\n",
        "dientich = a * a * 3.14\n",
        "## Kết quả\n",
        "print(\"Chu vi hinh tron = {:.1f}\".format(chuvi))\n",
        "print(\"Dien tich hinh tron = {:.1f}\".format(dientich))"
      ],
      "metadata": {
        "colab": {
          "base_uri": "https://localhost:8080/"
        },
        "id": "xYwjdI0McXLP",
        "outputId": "4b6a3e46-e485-4c98-c500-f8b31e49c0f8"
      },
      "execution_count": 5,
      "outputs": [
        {
          "output_type": "stream",
          "name": "stdout",
          "text": [
            "Nhap ban kinh a 5\n",
            "Chu vi hinh tron = 31.4\n",
            "Dien tich hinh tron = 78.5\n"
          ]
        }
      ]
    },
    {
      "cell_type": "code",
      "source": [
        "# Bài 3. Đổi sang giây\n",
        "## Nhập dữ liệu\n",
        "h = int(input(\"Nhap so gio \"))\n",
        "m = int(input(\"Nhap so phut \"))\n",
        "s = int(input(\"Nhap so giay \"))\n",
        "## Đổi sang giây\n",
        "tong = h  * 3600 + m * 60 + s\n",
        "## Kết quả\n",
        "print(f\"Tong so giay cua {h}:{m}:{s} la {tong} giay\")"
      ],
      "metadata": {
        "colab": {
          "base_uri": "https://localhost:8080/"
        },
        "id": "bXBYypjbd2oB",
        "outputId": "5abb7d87-ec54-45f4-cea6-190e866bff16"
      },
      "execution_count": 6,
      "outputs": [
        {
          "output_type": "stream",
          "name": "stdout",
          "text": [
            "Nhap so gio 1\n",
            "Nhap so phut 20\n",
            "Nhap so giay 10\n",
            "Tong so giay cua 1:20:10 la 4810 giay\n"
          ]
        }
      ]
    },
    {
      "cell_type": "code",
      "source": [
        "# Bài 4. Đổi sang giờ phút giây\n",
        "## Nhập dữ liệu\n",
        "t = int(input(\"Nhap tong so giay \"))\n",
        "## Đổi sang giờ phút giây\n",
        "h = t // 3600\n",
        "m = (t % 3600) // 60\n",
        "s = t % 60\n",
        "## Kết quả\n",
        "print(f\"{t} giay = {h} gio {m} phut {s} giay\")"
      ],
      "metadata": {
        "colab": {
          "base_uri": "https://localhost:8080/"
        },
        "id": "2Bp-T3TGhRtc",
        "outputId": "ced696e7-be52-4415-d953-e7d0cf5ec9e7"
      },
      "execution_count": 7,
      "outputs": [
        {
          "output_type": "stream",
          "name": "stdout",
          "text": [
            "Nhap tong so giay 4810\n",
            "4810 giay = 1 gio 20 phut 10 giay\n"
          ]
        }
      ]
    },
    {
      "cell_type": "code",
      "source": [
        "# Bài 5. Tính diện tích tam giác\n",
        "import math\n",
        "a = float(input(\"Nhap do dai canh a \"))\n",
        "b = float(input(\"Nhap do dai canh b \"))\n",
        "c = float(input(\"Nhap do dai canh c \"))\n",
        "## Điều kiện tạo tam giác\n",
        "if a + b > c and a + c > b and b + c > a:\n",
        "  p = (a + b + c) / 2\n",
        "  s = math.sqrt(p * (p - a) * (p - b) * (p - c))\n",
        "  print(f\"Dien tich tam giac la S = {s:.2f}\")\n",
        "else:\n",
        "  print(\"Ba canh khong tao thanh tam giac hop le.\")"
      ],
      "metadata": {
        "colab": {
          "base_uri": "https://localhost:8080/"
        },
        "id": "ZDC45EPuibAG",
        "outputId": "d57f02c6-a2f2-46f3-b88c-2bc84d780d41"
      },
      "execution_count": 14,
      "outputs": [
        {
          "output_type": "stream",
          "name": "stdout",
          "text": [
            "Nhap do dai canh a 2\n",
            "Nhap do dai canh b 4\n",
            "Nhap do dai canh c 3\n",
            "Dien tich tam giac la S = 2.90\n"
          ]
        }
      ]
    },
    {
      "cell_type": "code",
      "source": [
        "# Bài 6. Hàm mũ\n",
        "a = float(input(\"Nhap so thuc a \"))\n",
        "n = int(input(\"Nhap so mu n \"))\n",
        "## Kết quả\n",
        "ketqua = a ** n\n",
        "print(f\"Ket qua {a}^{n} = {ketqua}\")\n"
      ],
      "metadata": {
        "colab": {
          "base_uri": "https://localhost:8080/"
        },
        "id": "O8ywpSDwk0-f",
        "outputId": "23a0b976-c4a5-4185-d54f-6dfd118f9721"
      },
      "execution_count": 15,
      "outputs": [
        {
          "output_type": "stream",
          "name": "stdout",
          "text": [
            "Nhap so thuc a 2\n",
            "Nhap so mu n 4\n",
            "Ket qua 2.0^4 = 16.0\n"
          ]
        }
      ]
    },
    {
      "cell_type": "code",
      "source": [
        "# Bài 7. Đảo số\n",
        "x = int(input(\"Nhap so nguyen 4 chu so \"))\n",
        "y = int(str(x)[::-1])\n",
        "print(f\"So dao nguoc cua {x} la {y}\")"
      ],
      "metadata": {
        "colab": {
          "base_uri": "https://localhost:8080/"
        },
        "id": "mYPOgheBmHGW",
        "outputId": "b0dbcf41-ee8d-4011-a136-cf708bb344d6"
      },
      "execution_count": 18,
      "outputs": [
        {
          "output_type": "stream",
          "name": "stdout",
          "text": [
            "Nhap so nguyen 4 chu so 1234\n",
            "So dao nguoc cua 1234 la 4321\n"
          ]
        }
      ]
    },
    {
      "cell_type": "code",
      "source": [
        "# Bài 8. Đổi sang radian\n",
        "import math\n",
        "degree = float(input(\"Nhap gia tri do \"))\n",
        "radian = (degree * math.pi) / 180\n",
        "print(f\"Gia tri radian la {radian}\")"
      ],
      "metadata": {
        "colab": {
          "base_uri": "https://localhost:8080/"
        },
        "id": "-Vvgtf-xnISY",
        "outputId": "aecf9c20-9c07-4881-9a32-c12fef7dcecd"
      },
      "execution_count": 19,
      "outputs": [
        {
          "output_type": "stream",
          "name": "stdout",
          "text": [
            "Nhap gia tri do 45\n",
            "Gia tri radian la 0.7853981633974483\n"
          ]
        }
      ]
    },
    {
      "cell_type": "code",
      "source": [
        "# Bài 9. Hàm số 1\n",
        "import math\n",
        "x = float(input(\"Nhap gia tri x \"))\n",
        "## Điều kiện căn bậc 2 của x\n",
        "if x < 0:\n",
        "    print(\"x khong phai la so am de tinh can bac hai trong bieu thuc\")\n",
        "else:\n",
        "    y1 = 4 * (x**2 + 10 * x * math.sqrt(x) * 3 * x + 1)\n",
        "## Tính y2\n",
        "tuso = math.sin(math.pi * x**2) + math.sqrt(x**2 + 1)\n",
        "mauso = math.exp(2 * x + math.cos((math.pi / 4) * x))\n",
        "y2 = tuso / mauso\n",
        "## Làm tròn kết quả\n",
        "y1_rounded = round(y1, 2)\n",
        "y2_rounded = round(y2, 2)\n",
        "## Kết quả\n",
        "print(f\"Gia tri y1 (lam tron 2 so le) la {y1_rounded}\")\n",
        "print(f\"Gia tri y2 (lam tron 2 so le) la {y2_rounded}\")\n"
      ],
      "metadata": {
        "colab": {
          "base_uri": "https://localhost:8080/"
        },
        "id": "pkfnQM-Enqbw",
        "outputId": "2bc08003-8b6d-42df-e213-3163c7930bad"
      },
      "execution_count": 24,
      "outputs": [
        {
          "output_type": "stream",
          "name": "stdout",
          "text": [
            "Nhap gia tri x 14\n",
            "Gia tri y1 (lam tron 2 so le) la 88791.78\n",
            "Gia tri y2 (lam tron 2 so le) la 0.0\n"
          ]
        }
      ]
    },
    {
      "cell_type": "code",
      "source": [
        "# Bài 10. Tính khoảng cách\n",
        "import math\n",
        "## Tọa độ điểm A\n",
        "x1 = float(input(\"Nhap toa do x1 cua diem A \"))\n",
        "y1 = float(input(\"Nhap toa do y1 cua diem A \"))\n",
        "## Tọa độ điểm B\n",
        "x2 = float(input(\"Nhap toa do x2 cua diem B \"))\n",
        "y2 = float(input(\"Nhap toa do y2 cua diem B \"))\n",
        "## Tính khoảng cách\n",
        "delta_x = x2 - x1\n",
        "delta_y = y2 - y1\n",
        "distance = math.sqrt(delta_x**2 + delta_y**2)\n",
        "## Kết quả\n",
        "print(f\"Khoang cach giua hai diem A va B la {distance}\")"
      ],
      "metadata": {
        "colab": {
          "base_uri": "https://localhost:8080/"
        },
        "id": "sLEmIE6fqWGv",
        "outputId": "68902490-f811-4a6b-90b1-d9e63a854fad"
      },
      "execution_count": 26,
      "outputs": [
        {
          "output_type": "stream",
          "name": "stdout",
          "text": [
            "Nhap toa do x1 cua diem A 1\n",
            "Nhap toa do y1 cua diem A 4\n",
            "Nhap toa do x2 cua diem B 2\n",
            "Nhap toa do y2 cua diem B 5\n",
            "Khoang cach giua hai diem A va B la 1.4142135623730951\n"
          ]
        }
      ]
    }
  ]
}