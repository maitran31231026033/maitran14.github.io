{
  "cells": [
    {
      "cell_type": "markdown",
      "metadata": {
        "id": "view-in-github",
        "colab_type": "text"
      },
      "source": [
        "<a href=\"https://colab.research.google.com/github/maitran31231026033/maitran14.github.io/blob/main/B%C3%A0i%20t%E1%BA%ADp%20m%E1%BA%ABu.ipynb\" target=\"_parent\"><img src=\"https://colab.research.google.com/assets/colab-badge.svg\" alt=\"Open In Colab\"/></a>"
      ]
    },
    {
      "cell_type": "code",
      "source": [
        "# Bài 1. In chuỗi\n",
        "print(\"Whoever is happy will make others happy too\");\n",
        "print(\"--Anne Frank\");\n"
      ],
      "metadata": {
        "colab": {
          "base_uri": "https://localhost:8080/"
        },
        "id": "YBeNzyxXrT4K",
        "outputId": "a01c6d43-c5e5-4201-9a37-ceec07aa7284"
      },
      "execution_count": 2,
      "outputs": [
        {
          "output_type": "stream",
          "name": "stdout",
          "text": [
            "Whoever is happy will make others happy too\n",
            "--Anne Frank\n"
          ]
        }
      ]
    },
    {
      "cell_type": "code",
      "source": [
        "# Bài 2. Biểu thức tính toán\n",
        "## Nhập dữ liệu\n",
        "a = int(input(\"Moi ban nhap so a: \"))\n",
        "b = int(input(\"Moi ban nhap so b: \"))\n",
        "\n",
        "## Xử lý\n",
        "kqCong = a + b\n",
        "kqTru = a - b\n",
        "kqNhan = a * b\n",
        "kqChiaNguyen = a // b\n",
        "kqDu = a % b\n",
        "kqChiaThuc = a / b\n",
        "\n",
        "## In kết quả\n",
        "print(\"Cac ket qua tinh toan: \")\n",
        "print(\"%-5d + %5d = %5d\"%(a, b, kqCong))\n",
        "print(\"%-5d - %5d = %5d\"%(a, b, kqTru))\n",
        "print(\"%-5d * %5d = %5d\"%(a, b, kqNhan))\n",
        "print(\"%-5d / %5d = %5d\"%(a, b, kqChiaNguyen))\n",
        "print(\"%-5d / %5d = %5d\"%(a, b, kqDu))\n",
        "print(\"%-5d / %5d = %5.2f\"%(a, b, kqChiaThuc))\n",
        "\n",
        "\n"
      ],
      "metadata": {
        "colab": {
          "base_uri": "https://localhost:8080/"
        },
        "id": "jKqoj5qksDBt",
        "outputId": "f9acec6c-bf8f-49bc-e6cb-e34bcc1adac4"
      },
      "execution_count": 4,
      "outputs": [
        {
          "output_type": "stream",
          "name": "stdout",
          "text": [
            "Moi ban nhap so a: 5\n",
            "Moi ban nhap so b: 6\n",
            "Cac ket qua tinh toan: \n",
            "5     +     6 =    11\n",
            "5     -     6 =    -1\n",
            "5     *     6 =    30\n",
            "5     /     6 =     0\n",
            "5     /     6 =     5\n",
            "5     /     6 =  0.83\n"
          ]
        }
      ]
    },
    {
      "cell_type": "code",
      "source": [
        "# Bài 3. Biểu thức so sánh\n",
        "## Nhập dữ liệu\n",
        "a = float(input(\"Moi ban nhap so a: \"))\n",
        "b = float(input(\"Moi ban nhap so b: \"))\n",
        "\n",
        "## Xử lý\n",
        "laNhoHon = (a < b)\n",
        "laNhoHonBang = (a <= b)\n",
        "laLonHon = (a > b)\n",
        "laLonHonBang = (a >= b)\n",
        "laBang = (a == b)\n",
        "laKhacNhau = (a != b)\n",
        "\n",
        "## Xuất dữ liệu\n",
        "print(\"Ket qua so sanh hai so thuc %.2f va %.2f:\"%(a, b))\n",
        "print(\"%-8.2f < %8.2f: %8s\"%(a, b, laNhoHon))\n",
        "print(\"%-8.2f <= %8.2f: %8s\"%(a, b, laNhoHonBang))\n",
        "print(\"%-8.2f > %8.2f: %8s\"%(a, b, laLonHon))\n",
        "print(\"%-8.2f >= %8.2f: %8s\"%(a, b, laLonHonBang))\n",
        "print(\"%-8.2f == %8.2f: %8s\"%(a, b, laBang))\n",
        "print(\"%-8.2f != %8.2f: %8s\"%(a, b, laKhacNhau))\n",
        "\n"
      ],
      "metadata": {
        "colab": {
          "base_uri": "https://localhost:8080/"
        },
        "id": "6QuBi2190G80",
        "outputId": "36cb7d8a-beac-4f46-a11b-3068a4c7b901"
      },
      "execution_count": 5,
      "outputs": [
        {
          "output_type": "stream",
          "name": "stdout",
          "text": [
            "Moi ban nhap so a: 2.5\n",
            "Moi ban nhap so b: 6.8\n",
            "Ket qua so sanh hai so thuc 2.50 va 6.80:\n",
            "2.50     <     6.80:     True\n",
            "2.50     <=     6.80:     True\n",
            "2.50     >     6.80:    False\n",
            "2.50     >=     6.80:    False\n",
            "2.50     ==     6.80:    False\n",
            "2.50     !=     6.80:     True\n"
          ]
        }
      ]
    },
    {
      "cell_type": "code",
      "source": [
        "# Bài 4. Tính giá trị hàm số\n",
        "## Nạp thư viện\n",
        "import math\n",
        "\n",
        "## Nhập dữ liệu\n",
        "x = float(input(\"Moi ban nhap vao gia tri cua bien so x: \"))\n",
        "\n",
        "## Xử lý\n",
        "fx = x + math.pow(x, 5) / (1 * 2 * 3 * 4 * 5) + \\\n",
        "math.sqrt(abs(x)) / math.pow(x, 3.0 / 2)\n",
        "\n",
        "# Xuất dữ liệu\n",
        "print(\"Gia tri cua ham so f(%.2f) = %.2f.\"%(x,fx))\n"
      ],
      "metadata": {
        "id": "Ghyv2n2g5d2x",
        "outputId": "f108074e-e997-4724-a769-ede64b443fd3",
        "colab": {
          "base_uri": "https://localhost:8080/"
        }
      },
      "execution_count": 10,
      "outputs": [
        {
          "output_type": "stream",
          "name": "stdout",
          "text": [
            "Moi ban nhap vao gia tri cua bien so x: 2.3\n",
            "Gia tri cua ham so f(2.30) = 3.27.\n"
          ]
        }
      ]
    },
    {
      "cell_type": "code",
      "source": [
        "# Bài 5. Tổng chữ số\n",
        "## Nạp thư viện\n",
        "import math\n",
        "\n",
        "## Nhập dữ liệu\n",
        "n = float(input(\"Moi ban nhap vao gia tri cua so nguyen n (co bon chu so): \"))\n",
        "\n",
        "## Xử lý\n",
        "a = n // 1000\n",
        "b = (n // 100) % 10\n",
        "c = (n // 10) % 10\n",
        "d = n % 10\n",
        "Tong = a + b + c + d\n",
        "\n",
        "\n",
        "## Xuất dữ liệu\n",
        "print(f\"Tong cac chu so cua {n} = {Tong}\")\n",
        "\n"
      ],
      "metadata": {
        "id": "ppkRI2p-67NM",
        "outputId": "ecfa98c0-4031-4854-a5df-e0862dc41aeb",
        "colab": {
          "base_uri": "https://localhost:8080/"
        }
      },
      "execution_count": 13,
      "outputs": [
        {
          "output_type": "stream",
          "name": "stdout",
          "text": [
            "Moi ban nhap vao gia tri cua so nguyen n (co bon chu so): 1234\n",
            "Tong cac chu so cua 1234.0 = 10.0\n"
          ]
        }
      ]
    }
  ],
  "metadata": {
    "colab": {
      "name": "Chào mừng bạn đến với Colab",
      "provenance": [],
      "include_colab_link": true
    },
    "kernelspec": {
      "display_name": "Python 3",
      "name": "python3"
    }
  },
  "nbformat": 4,
  "nbformat_minor": 0
}